{
 "cells": [
  {
   "cell_type": "code",
   "execution_count": 1,
   "metadata": {},
   "outputs": [],
   "source": [
    "%load_ext tensorboard\n",
    "\n",
    "import tensorflow as tf\n",
    "from tensorboard.plugins.hparams import api as hp"
   ]
  },
  {
   "cell_type": "code",
   "execution_count": 2,
   "metadata": {},
   "outputs": [],
   "source": [
    "!rm -rf ./logs/hp_tuning"
   ]
  },
  {
   "cell_type": "code",
   "execution_count": 3,
   "metadata": {},
   "outputs": [],
   "source": [
    "fashion_mnist = tf.keras.datasets.fashion_mnist\n",
    "\n",
    "(x_train, y_train),(x_test, y_test) = fashion_mnist.load_data()"
   ]
  },
  {
   "cell_type": "code",
   "execution_count": 4,
   "metadata": {},
   "outputs": [],
   "source": [
    "x_train, x_test = x_train / 255.0, x_test / 255.0"
   ]
  },
  {
   "cell_type": "code",
   "execution_count": 5,
   "metadata": {},
   "outputs": [],
   "source": [
    "HP_UNITS = hp.HParam('units', hp.Discrete([16, 32, 64]))\n",
    "HP_DROPOUT = hp.HParam('dropout', hp.RealInterval(0.1, 0.2))\n",
    "HP_OPTIMIZER = hp.HParam('optimizer', hp.Discrete(['adamax', 'sgd']))\n",
    "\n",
    "METRIC_ACCURACY = 'accuracy'\n",
    "\n",
    "with tf.summary.create_file_writer('logs/hp_tuning').as_default():\n",
    "    hp.hparams_config(\n",
    "        hparams=[HP_UNITS, HP_DROPOUT, HP_OPTIMIZER],\n",
    "        metrics=[hp.Metric(METRIC_ACCURACY, display_name='Accuracy')],\n",
    "    )"
   ]
  },
  {
   "cell_type": "code",
   "execution_count": 6,
   "metadata": {},
   "outputs": [],
   "source": [
    "def step(hparams):\n",
    "    model = tf.keras.models.Sequential()\n",
    "    model.add(tf.keras.layers.Flatten())\n",
    "    model.add(tf.keras.layers.Dense(hparams[HP_UNITS], activation=tf.nn.relu))\n",
    "    model.add(tf.keras.layers.Dropout(hparams[HP_DROPOUT]))\n",
    "    model.add(tf.keras.layers.Dense(10, activation=tf.nn.softmax))\n",
    "\n",
    "    model.compile(\n",
    "        optimizer=hparams[HP_OPTIMIZER],\n",
    "        loss='sparse_categorical_crossentropy',\n",
    "        metrics=['accuracy'],\n",
    "    )\n",
    "\n",
    "    model.fit(\n",
    "        x_train,\n",
    "        y_train, \n",
    "        epochs=1\n",
    "    )\n",
    "    \n",
    "    loss, accuracy = model.evaluate(x_test, y_test)\n",
    "    return accuracy"
   ]
  },
  {
   "cell_type": "code",
   "execution_count": 7,
   "metadata": {},
   "outputs": [],
   "source": [
    "def run(run_dir, hparams):\n",
    "    with tf.summary.create_file_writer(run_dir).as_default():\n",
    "        hp.hparams(hparams)\n",
    "        accuracy = step(hparams)\n",
    "        tf.summary.scalar(METRIC_ACCURACY, accuracy, step=1)"
   ]
  },
  {
   "cell_type": "code",
   "execution_count": 8,
   "metadata": {},
   "outputs": [
    {
     "data": {
      "text/html": [
       "\n",
       "      <iframe id=\"tensorboard-frame-9cb0c67615203f42\" width=\"100%\" height=\"800\" frameborder=\"0\">\n",
       "      </iframe>\n",
       "      <script>\n",
       "        (function() {\n",
       "          const frame = document.getElementById(\"tensorboard-frame-9cb0c67615203f42\");\n",
       "          const url = new URL(\"/\", window.location);\n",
       "          url.port = 6008;\n",
       "          frame.src = url;\n",
       "        })();\n",
       "      </script>\n",
       "  "
      ],
      "text/plain": [
       "<IPython.core.display.HTML object>"
      ]
     },
     "metadata": {},
     "output_type": "display_data"
    },
    {
     "name": "stdout",
     "output_type": "stream",
     "text": [
      "Starting Trial: run-0\n",
      "{'units': 16, 'dropout': 0.1, 'optimizer': 'adamax'}\n",
      "Train on 60000 samples\n",
      "60000/60000 [==============================] - 2s 38us/sample - loss: 0.8567 - accuracy: 0.6943\n",
      "10000/10000 [==============================] - 0s 38us/sample - loss: 0.5871 - accuracy: 0.7944\n",
      "Starting Trial: run-1\n",
      "{'units': 16, 'dropout': 0.1, 'optimizer': 'sgd'}\n",
      "Train on 60000 samples\n",
      "60000/60000 [==============================] - 2s 34us/sample - loss: 0.9789 - accuracy: 0.6618\n",
      "10000/10000 [==============================] - 0s 27us/sample - loss: 0.6668 - accuracy: 0.7674\n",
      "Starting Trial: run-2\n",
      "{'units': 16, 'dropout': 0.2, 'optimizer': 'adamax'}\n",
      "Train on 60000 samples\n",
      "60000/60000 [==============================] - 2s 35us/sample - loss: 1.0480 - accuracy: 0.6370\n",
      "10000/10000 [==============================] - 0s 27us/sample - loss: 0.6262 - accuracy: 0.7895\n",
      "Starting Trial: run-3\n",
      "{'units': 16, 'dropout': 0.2, 'optimizer': 'sgd'}\n",
      "Train on 60000 samples\n",
      "60000/60000 [==============================] - 2s 33us/sample - loss: 1.2236 - accuracy: 0.5742\n",
      "10000/10000 [==============================] - 0s 28us/sample - loss: 0.7716 - accuracy: 0.7387\n",
      "Starting Trial: run-4\n",
      "{'units': 32, 'dropout': 0.1, 'optimizer': 'adamax'}\n",
      "Train on 60000 samples\n",
      "60000/60000 [==============================] - 2s 36us/sample - loss: 0.7303 - accuracy: 0.7485\n",
      "10000/10000 [==============================] - 0s 27us/sample - loss: 0.5328 - accuracy: 0.8174\n",
      "Starting Trial: run-5\n",
      "{'units': 32, 'dropout': 0.1, 'optimizer': 'sgd'}\n",
      "Train on 60000 samples\n",
      "60000/60000 [==============================] - 2s 34us/sample - loss: 0.8860 - accuracy: 0.7048\n",
      "10000/10000 [==============================] - 0s 28us/sample - loss: 0.6174 - accuracy: 0.7897\n",
      "Starting Trial: run-6\n",
      "{'units': 32, 'dropout': 0.2, 'optimizer': 'adamax'}\n",
      "Train on 60000 samples\n",
      "60000/60000 [==============================] - 2s 36us/sample - loss: 0.8080 - accuracy: 0.7235\n",
      "10000/10000 [==============================] - 0s 28us/sample - loss: 0.5482 - accuracy: 0.8140\n",
      "Starting Trial: run-7\n",
      "{'units': 32, 'dropout': 0.2, 'optimizer': 'sgd'}\n",
      "Train on 60000 samples\n",
      "60000/60000 [==============================] - 2s 34us/sample - loss: 1.0018 - accuracy: 0.6565\n",
      "10000/10000 [==============================] - 0s 27us/sample - loss: 0.6567 - accuracy: 0.7883\n",
      "Starting Trial: run-8\n",
      "{'units': 64, 'dropout': 0.1, 'optimizer': 'adamax'}\n",
      "Train on 60000 samples\n",
      "60000/60000 [==============================] - 2s 40us/sample - loss: 0.6416 - accuracy: 0.7829\n",
      "10000/10000 [==============================] - 0s 29us/sample - loss: 0.4883 - accuracy: 0.8338\n",
      "Starting Trial: run-9\n",
      "{'units': 64, 'dropout': 0.1, 'optimizer': 'sgd'}\n",
      "Train on 60000 samples\n",
      "60000/60000 [==============================] - 2s 37us/sample - loss: 0.8437 - accuracy: 0.7197\n",
      "10000/10000 [==============================] - 0s 48us/sample - loss: 0.5974 - accuracy: 0.7938\n",
      "Starting Trial: run-10\n",
      "{'units': 64, 'dropout': 0.2, 'optimizer': 'adamax'}\n",
      "Train on 60000 samples\n",
      "60000/60000 [==============================] - 2s 40us/sample - loss: 0.6882 - accuracy: 0.7694\n",
      "10000/10000 [==============================] - 0s 30us/sample - loss: 0.5027 - accuracy: 0.8262\n",
      "Starting Trial: run-11\n",
      "{'units': 64, 'dropout': 0.2, 'optimizer': 'sgd'}\n",
      "Train on 60000 samples\n",
      "60000/60000 [==============================] - 2s 38us/sample - loss: 0.8507 - accuracy: 0.7138\n",
      "10000/10000 [==============================] - 0s 35us/sample - loss: 0.6116 - accuracy: 0.7936\n"
     ]
    }
   ],
   "source": [
    "session = 0\n",
    "\n",
    "%tensorboard --logdir logs/hp_tuning\n",
    "\n",
    "\n",
    "for units in HP_UNITS.domain.values:\n",
    "    for dropout_rate in (HP_DROPOUT.domain.min_value, HP_DROPOUT.domain.max_value):\n",
    "        for optimizer in HP_OPTIMIZER.domain.values:\n",
    "            hparams = {\n",
    "                HP_UNITS: units,\n",
    "                HP_DROPOUT: dropout_rate,\n",
    "                HP_OPTIMIZER: optimizer,\n",
    "            }\n",
    "            \n",
    "            run_name = \"run-%d\" % session\n",
    "            print('Starting Trial: %s' % run_name)\n",
    "            print({h.name: hparams[h] for h in hparams})\n",
    "            run('logs/hp_tuning/' + run_name, hparams)\n",
    "            session += 1"
   ]
  },
  {
   "cell_type": "markdown",
   "metadata": {},
   "source": [
    "### Using Keras Callback"
   ]
  },
  {
   "cell_type": "code",
   "execution_count": 8,
   "metadata": {},
   "outputs": [],
   "source": [
    "logdir = './logs/hp_tuning'"
   ]
  },
  {
   "cell_type": "code",
   "execution_count": 9,
   "metadata": {},
   "outputs": [
    {
     "name": "stdout",
     "output_type": "stream",
     "text": [
      "{'units': 16, 'dropout': 0.1, 'optimizer': 'adamax'}\n",
      "Train on 60000 samples\n",
      "60000/60000 [==============================] - 3s 42us/sample - loss: 0.9097 - accuracy: 0.6992\n",
      "{'units': 16, 'dropout': 0.1, 'optimizer': 'sgd'}\n",
      "Train on 60000 samples\n",
      "60000/60000 [==============================] - 2s 40us/sample - loss: 1.0683 - accuracy: 0.6396\n",
      "{'units': 16, 'dropout': 0.2, 'optimizer': 'adamax'}\n",
      "Train on 60000 samples\n",
      "60000/60000 [==============================] - 3s 42us/sample - loss: 1.0010 - accuracy: 0.6632\n",
      "{'units': 16, 'dropout': 0.2, 'optimizer': 'sgd'}\n",
      "Train on 60000 samples\n",
      "60000/60000 [==============================] - 2s 40us/sample - loss: 1.0641 - accuracy: 0.6241\n",
      "{'units': 32, 'dropout': 0.1, 'optimizer': 'adamax'}\n",
      "Train on 60000 samples\n",
      "60000/60000 [==============================] - 3s 43us/sample - loss: 0.7382 - accuracy: 0.7504\n",
      "{'units': 32, 'dropout': 0.1, 'optimizer': 'sgd'}\n",
      "Train on 60000 samples\n",
      "60000/60000 [==============================] - 2s 41us/sample - loss: 0.9113 - accuracy: 0.6896\n",
      "{'units': 32, 'dropout': 0.2, 'optimizer': 'adamax'}\n",
      "Train on 60000 samples\n",
      "60000/60000 [==============================] - 3s 43us/sample - loss: 0.7807 - accuracy: 0.7351\n",
      "{'units': 32, 'dropout': 0.2, 'optimizer': 'sgd'}\n",
      "Train on 60000 samples\n",
      "60000/60000 [==============================] - 2s 41us/sample - loss: 0.9766 - accuracy: 0.6631\n",
      "{'units': 64, 'dropout': 0.1, 'optimizer': 'adamax'}\n",
      "Train on 60000 samples\n",
      "60000/60000 [==============================] - 3s 48us/sample - loss: 0.6457 - accuracy: 0.7791\n",
      "{'units': 64, 'dropout': 0.1, 'optimizer': 'sgd'}\n",
      "Train on 60000 samples\n",
      "60000/60000 [==============================] - 3s 44us/sample - loss: 0.8417 - accuracy: 0.7193\n",
      "{'units': 64, 'dropout': 0.2, 'optimizer': 'adamax'}\n",
      "Train on 60000 samples\n",
      "60000/60000 [==============================] - 3s 48us/sample - loss: 0.6809 - accuracy: 0.7689\n",
      "{'units': 64, 'dropout': 0.2, 'optimizer': 'sgd'}\n",
      "Train on 60000 samples\n",
      "60000/60000 [==============================] - 3s 47us/sample - loss: 0.8592 - accuracy: 0.7099\n"
     ]
    }
   ],
   "source": [
    "for units in HP_UNITS.domain.values:\n",
    "    for dropout_rate in (HP_DROPOUT.domain.min_value, HP_DROPOUT.domain.max_value):\n",
    "        for optimizer in HP_OPTIMIZER.domain.values:\n",
    "            hparams = {\n",
    "                HP_UNITS: units,\n",
    "                HP_DROPOUT: dropout_rate,\n",
    "                HP_OPTIMIZER: optimizer,\n",
    "            }\n",
    "            \n",
    "            model = tf.keras.models.Sequential()\n",
    "            model.add(tf.keras.layers.Flatten())\n",
    "            model.add(tf.keras.layers.Dense(hparams[HP_UNITS], activation=tf.nn.relu))\n",
    "            model.add(tf.keras.layers.Dropout(hparams[HP_DROPOUT]))\n",
    "            model.add(tf.keras.layers.Dense(10, activation=tf.nn.softmax))\n",
    "            \n",
    "            model.compile(\n",
    "                optimizer=hparams[HP_OPTIMIZER],\n",
    "                loss='sparse_categorical_crossentropy',\n",
    "                metrics=['accuracy'],\n",
    "            )\n",
    "            \n",
    "            print({h.name: hparams[h] for h in hparams})\n",
    "            model.fit(\n",
    "                x_train,\n",
    "                y_train, \n",
    "                epochs=1,\n",
    "                callbacks=[\n",
    "                    tf.keras.callbacks.TensorBoard(logdir),\n",
    "                    hp.KerasCallback(logdir, hparams),\n",
    "                ],\n",
    "            )\n"
   ]
  },
  {
   "cell_type": "code",
   "execution_count": 25,
   "metadata": {},
   "outputs": [],
   "source": []
  },
  {
   "cell_type": "code",
   "execution_count": null,
   "metadata": {},
   "outputs": [],
   "source": []
  }
 ],
 "metadata": {
  "kernelspec": {
   "display_name": "Python 3",
   "language": "python",
   "name": "python3"
  },
  "language_info": {
   "codemirror_mode": {
    "name": "ipython",
    "version": 3
   },
   "file_extension": ".py",
   "mimetype": "text/x-python",
   "name": "python",
   "nbconvert_exporter": "python",
   "pygments_lexer": "ipython3",
   "version": "3.6.9"
  }
 },
 "nbformat": 4,
 "nbformat_minor": 4
}
